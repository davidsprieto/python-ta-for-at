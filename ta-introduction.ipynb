{
 "cells": [
  {
   "cell_type": "code",
   "execution_count": 1,
   "id": "initial_id",
   "metadata": {
    "collapsed": true,
    "ExecuteTime": {
     "end_time": "2024-01-18T22:58:17.819610Z",
     "start_time": "2024-01-18T22:58:16.715489Z"
    }
   },
   "outputs": [],
   "source": [
    "import pandas as pd\n",
    "import numpy\n",
    "import matplotlib.pyplot as plt\n",
    "import cufflinks as cf\n",
    "import yfinance as yf"
   ]
  },
  {
   "cell_type": "code",
   "execution_count": 2,
   "outputs": [],
   "source": [
    "start = \"2010-01-01\"\n",
    "end = \"2020-12-31\""
   ],
   "metadata": {
    "collapsed": false,
    "ExecuteTime": {
     "end_time": "2024-01-18T22:58:17.822993Z",
     "start_time": "2024-01-18T22:58:17.820462Z"
    }
   },
   "id": "30d85e6ae738e9c1"
  },
  {
   "cell_type": "code",
   "execution_count": 3,
   "outputs": [],
   "source": [
    "symbol = \"MSFT\""
   ],
   "metadata": {
    "collapsed": false,
    "ExecuteTime": {
     "end_time": "2024-01-18T22:58:17.826282Z",
     "start_time": "2024-01-18T22:58:17.823225Z"
    }
   },
   "id": "a75476a4273ca7c8"
  },
  {
   "cell_type": "code",
   "execution_count": 4,
   "outputs": [
    {
     "name": "stderr",
     "output_type": "stream",
     "text": [
      "[*********************100%%**********************]  1 of 1 completed\n"
     ]
    },
    {
     "data": {
      "text/plain": "                  Open        High         Low       Close   Adj Close  \\\nDate                                                                     \n2010-01-04   30.620001   31.100000   30.590000   30.950001   23.474924   \n2010-01-05   30.850000   31.100000   30.639999   30.959999   23.482504   \n2010-01-06   30.879999   31.080000   30.520000   30.770000   23.338396   \n2010-01-07   30.629999   30.700001   30.190001   30.450001   23.095684   \n2010-01-08   30.280001   30.879999   30.240000   30.660000   23.254965   \n...                ...         ...         ...         ...         ...   \n2020-12-23  223.110001  223.559998  220.800003  221.020004  215.239517   \n2020-12-24  221.419998  223.610001  221.199997  222.750000  216.924286   \n2020-12-28  224.449997  226.029999  223.020004  224.960007  219.076477   \n2020-12-29  226.309998  227.179993  223.580002  224.149994  218.287674   \n2020-12-30  225.229996  225.630005  221.470001  221.679993  215.882248   \n\n              Volume  \nDate                  \n2010-01-04  38409100  \n2010-01-05  49749600  \n2010-01-06  58182400  \n2010-01-07  50559700  \n2010-01-08  51197400  \n...              ...  \n2020-12-23  18699600  \n2020-12-24  10550600  \n2020-12-28  17933500  \n2020-12-29  17403200  \n2020-12-30  20272300  \n\n[2768 rows x 6 columns]",
      "text/html": "<div>\n<style scoped>\n    .dataframe tbody tr th:only-of-type {\n        vertical-align: middle;\n    }\n\n    .dataframe tbody tr th {\n        vertical-align: top;\n    }\n\n    .dataframe thead th {\n        text-align: right;\n    }\n</style>\n<table border=\"1\" class=\"dataframe\">\n  <thead>\n    <tr style=\"text-align: right;\">\n      <th></th>\n      <th>Open</th>\n      <th>High</th>\n      <th>Low</th>\n      <th>Close</th>\n      <th>Adj Close</th>\n      <th>Volume</th>\n    </tr>\n    <tr>\n      <th>Date</th>\n      <th></th>\n      <th></th>\n      <th></th>\n      <th></th>\n      <th></th>\n      <th></th>\n    </tr>\n  </thead>\n  <tbody>\n    <tr>\n      <th>2010-01-04</th>\n      <td>30.620001</td>\n      <td>31.100000</td>\n      <td>30.590000</td>\n      <td>30.950001</td>\n      <td>23.474924</td>\n      <td>38409100</td>\n    </tr>\n    <tr>\n      <th>2010-01-05</th>\n      <td>30.850000</td>\n      <td>31.100000</td>\n      <td>30.639999</td>\n      <td>30.959999</td>\n      <td>23.482504</td>\n      <td>49749600</td>\n    </tr>\n    <tr>\n      <th>2010-01-06</th>\n      <td>30.879999</td>\n      <td>31.080000</td>\n      <td>30.520000</td>\n      <td>30.770000</td>\n      <td>23.338396</td>\n      <td>58182400</td>\n    </tr>\n    <tr>\n      <th>2010-01-07</th>\n      <td>30.629999</td>\n      <td>30.700001</td>\n      <td>30.190001</td>\n      <td>30.450001</td>\n      <td>23.095684</td>\n      <td>50559700</td>\n    </tr>\n    <tr>\n      <th>2010-01-08</th>\n      <td>30.280001</td>\n      <td>30.879999</td>\n      <td>30.240000</td>\n      <td>30.660000</td>\n      <td>23.254965</td>\n      <td>51197400</td>\n    </tr>\n    <tr>\n      <th>...</th>\n      <td>...</td>\n      <td>...</td>\n      <td>...</td>\n      <td>...</td>\n      <td>...</td>\n      <td>...</td>\n    </tr>\n    <tr>\n      <th>2020-12-23</th>\n      <td>223.110001</td>\n      <td>223.559998</td>\n      <td>220.800003</td>\n      <td>221.020004</td>\n      <td>215.239517</td>\n      <td>18699600</td>\n    </tr>\n    <tr>\n      <th>2020-12-24</th>\n      <td>221.419998</td>\n      <td>223.610001</td>\n      <td>221.199997</td>\n      <td>222.750000</td>\n      <td>216.924286</td>\n      <td>10550600</td>\n    </tr>\n    <tr>\n      <th>2020-12-28</th>\n      <td>224.449997</td>\n      <td>226.029999</td>\n      <td>223.020004</td>\n      <td>224.960007</td>\n      <td>219.076477</td>\n      <td>17933500</td>\n    </tr>\n    <tr>\n      <th>2020-12-29</th>\n      <td>226.309998</td>\n      <td>227.179993</td>\n      <td>223.580002</td>\n      <td>224.149994</td>\n      <td>218.287674</td>\n      <td>17403200</td>\n    </tr>\n    <tr>\n      <th>2020-12-30</th>\n      <td>225.229996</td>\n      <td>225.630005</td>\n      <td>221.470001</td>\n      <td>221.679993</td>\n      <td>215.882248</td>\n      <td>20272300</td>\n    </tr>\n  </tbody>\n</table>\n<p>2768 rows × 6 columns</p>\n</div>"
     },
     "execution_count": 4,
     "metadata": {},
     "output_type": "execute_result"
    }
   ],
   "source": [
    "df = yf.download(tickers = symbol, start = start, end = end)\n",
    "df"
   ],
   "metadata": {
    "collapsed": false,
    "ExecuteTime": {
     "end_time": "2024-01-18T22:58:20.182965Z",
     "start_time": "2024-01-18T22:58:17.825707Z"
    }
   },
   "id": "9fa95ba45bccac8a"
  },
  {
   "cell_type": "code",
   "execution_count": 5,
   "outputs": [
    {
     "name": "stdout",
     "output_type": "stream",
     "text": [
      "<class 'pandas.core.frame.DataFrame'>\n",
      "DatetimeIndex: 2768 entries, 2010-01-04 to 2020-12-30\n",
      "Data columns (total 6 columns):\n",
      " #   Column     Non-Null Count  Dtype  \n",
      "---  ------     --------------  -----  \n",
      " 0   Open       2768 non-null   float64\n",
      " 1   High       2768 non-null   float64\n",
      " 2   Low        2768 non-null   float64\n",
      " 3   Close      2768 non-null   float64\n",
      " 4   Adj Close  2768 non-null   float64\n",
      " 5   Volume     2768 non-null   int64  \n",
      "dtypes: float64(5), int64(1)\n",
      "memory usage: 151.4 KB\n"
     ]
    }
   ],
   "source": [
    "df.info()"
   ],
   "metadata": {
    "collapsed": false,
    "ExecuteTime": {
     "end_time": "2024-01-18T23:00:24.736265Z",
     "start_time": "2024-01-18T23:00:24.711600Z"
    }
   },
   "id": "edca022ec8292b23"
  },
  {
   "cell_type": "code",
   "execution_count": 8,
   "outputs": [],
   "source": [
    "symbol = [\"MSFT\", \"AAPL\"]"
   ],
   "metadata": {
    "collapsed": false,
    "ExecuteTime": {
     "end_time": "2024-01-18T23:01:50.191510Z",
     "start_time": "2024-01-18T23:01:50.182955Z"
    }
   },
   "id": "6ac90d40d9242cfb"
  },
  {
   "cell_type": "code",
   "execution_count": 9,
   "outputs": [
    {
     "name": "stderr",
     "output_type": "stream",
     "text": [
      "[*********************100%%**********************]  2 of 2 completed\n"
     ]
    },
    {
     "data": {
      "text/plain": "             Adj Close                   Close                    High  \\\n                  AAPL        MSFT        AAPL        MSFT        AAPL   \nDate                                                                     \n2010-01-04    6.478998   23.474924    7.643214   30.950001    7.660714   \n2010-01-05    6.490201   23.482504    7.656429   30.959999    7.699643   \n2010-01-06    6.386965   23.338396    7.534643   30.770000    7.686786   \n2010-01-07    6.375157   23.095684    7.520714   30.450001    7.571429   \n2010-01-08    6.417541   23.254965    7.570714   30.660000    7.571429   \n...                ...         ...         ...         ...         ...   \n2020-12-23  128.687271  215.239517  130.960007  221.020004  132.429993   \n2020-12-24  129.679703  216.924286  131.970001  222.750000  133.460007   \n2020-12-28  134.317810  219.076477  136.690002  224.960007  137.339996   \n2020-12-29  132.529404  218.287674  134.869995  224.149994  138.789993   \n2020-12-30  131.399384  215.882248  133.720001  221.679993  135.990005   \n\n                               Low                    Open              \\\n                  MSFT        AAPL        MSFT        AAPL        MSFT   \nDate                                                                     \n2010-01-04   31.100000    7.585000   30.590000    7.622500   30.620001   \n2010-01-05   31.100000    7.616071   30.639999    7.664286   30.850000   \n2010-01-06   31.080000    7.526786   30.520000    7.656429   30.879999   \n2010-01-07   30.700001    7.466071   30.190001    7.562500   30.629999   \n2010-01-08   30.879999    7.466429   30.240000    7.510714   30.280001   \n...                ...         ...         ...         ...         ...   \n2020-12-23  223.559998  130.779999  220.800003  132.160004  223.110001   \n2020-12-24  223.610001  131.100006  221.199997  131.320007  221.419998   \n2020-12-28  226.029999  133.509995  223.020004  133.990005  224.449997   \n2020-12-29  227.179993  134.339996  223.580002  138.050003  226.309998   \n2020-12-30  225.630005  133.399994  221.470001  135.580002  225.229996   \n\n               Volume            \n                 AAPL      MSFT  \nDate                             \n2010-01-04  493729600  38409100  \n2010-01-05  601904800  49749600  \n2010-01-06  552160000  58182400  \n2010-01-07  477131200  50559700  \n2010-01-08  447610800  51197400  \n...               ...       ...  \n2020-12-23   88223700  18699600  \n2020-12-24   54930100  10550600  \n2020-12-28  124486200  17933500  \n2020-12-29  121047300  17403200  \n2020-12-30   96452100  20272300  \n\n[2768 rows x 12 columns]",
      "text/html": "<div>\n<style scoped>\n    .dataframe tbody tr th:only-of-type {\n        vertical-align: middle;\n    }\n\n    .dataframe tbody tr th {\n        vertical-align: top;\n    }\n\n    .dataframe thead tr th {\n        text-align: left;\n    }\n\n    .dataframe thead tr:last-of-type th {\n        text-align: right;\n    }\n</style>\n<table border=\"1\" class=\"dataframe\">\n  <thead>\n    <tr>\n      <th></th>\n      <th colspan=\"2\" halign=\"left\">Adj Close</th>\n      <th colspan=\"2\" halign=\"left\">Close</th>\n      <th colspan=\"2\" halign=\"left\">High</th>\n      <th colspan=\"2\" halign=\"left\">Low</th>\n      <th colspan=\"2\" halign=\"left\">Open</th>\n      <th colspan=\"2\" halign=\"left\">Volume</th>\n    </tr>\n    <tr>\n      <th></th>\n      <th>AAPL</th>\n      <th>MSFT</th>\n      <th>AAPL</th>\n      <th>MSFT</th>\n      <th>AAPL</th>\n      <th>MSFT</th>\n      <th>AAPL</th>\n      <th>MSFT</th>\n      <th>AAPL</th>\n      <th>MSFT</th>\n      <th>AAPL</th>\n      <th>MSFT</th>\n    </tr>\n    <tr>\n      <th>Date</th>\n      <th></th>\n      <th></th>\n      <th></th>\n      <th></th>\n      <th></th>\n      <th></th>\n      <th></th>\n      <th></th>\n      <th></th>\n      <th></th>\n      <th></th>\n      <th></th>\n    </tr>\n  </thead>\n  <tbody>\n    <tr>\n      <th>2010-01-04</th>\n      <td>6.478998</td>\n      <td>23.474924</td>\n      <td>7.643214</td>\n      <td>30.950001</td>\n      <td>7.660714</td>\n      <td>31.100000</td>\n      <td>7.585000</td>\n      <td>30.590000</td>\n      <td>7.622500</td>\n      <td>30.620001</td>\n      <td>493729600</td>\n      <td>38409100</td>\n    </tr>\n    <tr>\n      <th>2010-01-05</th>\n      <td>6.490201</td>\n      <td>23.482504</td>\n      <td>7.656429</td>\n      <td>30.959999</td>\n      <td>7.699643</td>\n      <td>31.100000</td>\n      <td>7.616071</td>\n      <td>30.639999</td>\n      <td>7.664286</td>\n      <td>30.850000</td>\n      <td>601904800</td>\n      <td>49749600</td>\n    </tr>\n    <tr>\n      <th>2010-01-06</th>\n      <td>6.386965</td>\n      <td>23.338396</td>\n      <td>7.534643</td>\n      <td>30.770000</td>\n      <td>7.686786</td>\n      <td>31.080000</td>\n      <td>7.526786</td>\n      <td>30.520000</td>\n      <td>7.656429</td>\n      <td>30.879999</td>\n      <td>552160000</td>\n      <td>58182400</td>\n    </tr>\n    <tr>\n      <th>2010-01-07</th>\n      <td>6.375157</td>\n      <td>23.095684</td>\n      <td>7.520714</td>\n      <td>30.450001</td>\n      <td>7.571429</td>\n      <td>30.700001</td>\n      <td>7.466071</td>\n      <td>30.190001</td>\n      <td>7.562500</td>\n      <td>30.629999</td>\n      <td>477131200</td>\n      <td>50559700</td>\n    </tr>\n    <tr>\n      <th>2010-01-08</th>\n      <td>6.417541</td>\n      <td>23.254965</td>\n      <td>7.570714</td>\n      <td>30.660000</td>\n      <td>7.571429</td>\n      <td>30.879999</td>\n      <td>7.466429</td>\n      <td>30.240000</td>\n      <td>7.510714</td>\n      <td>30.280001</td>\n      <td>447610800</td>\n      <td>51197400</td>\n    </tr>\n    <tr>\n      <th>...</th>\n      <td>...</td>\n      <td>...</td>\n      <td>...</td>\n      <td>...</td>\n      <td>...</td>\n      <td>...</td>\n      <td>...</td>\n      <td>...</td>\n      <td>...</td>\n      <td>...</td>\n      <td>...</td>\n      <td>...</td>\n    </tr>\n    <tr>\n      <th>2020-12-23</th>\n      <td>128.687271</td>\n      <td>215.239517</td>\n      <td>130.960007</td>\n      <td>221.020004</td>\n      <td>132.429993</td>\n      <td>223.559998</td>\n      <td>130.779999</td>\n      <td>220.800003</td>\n      <td>132.160004</td>\n      <td>223.110001</td>\n      <td>88223700</td>\n      <td>18699600</td>\n    </tr>\n    <tr>\n      <th>2020-12-24</th>\n      <td>129.679703</td>\n      <td>216.924286</td>\n      <td>131.970001</td>\n      <td>222.750000</td>\n      <td>133.460007</td>\n      <td>223.610001</td>\n      <td>131.100006</td>\n      <td>221.199997</td>\n      <td>131.320007</td>\n      <td>221.419998</td>\n      <td>54930100</td>\n      <td>10550600</td>\n    </tr>\n    <tr>\n      <th>2020-12-28</th>\n      <td>134.317810</td>\n      <td>219.076477</td>\n      <td>136.690002</td>\n      <td>224.960007</td>\n      <td>137.339996</td>\n      <td>226.029999</td>\n      <td>133.509995</td>\n      <td>223.020004</td>\n      <td>133.990005</td>\n      <td>224.449997</td>\n      <td>124486200</td>\n      <td>17933500</td>\n    </tr>\n    <tr>\n      <th>2020-12-29</th>\n      <td>132.529404</td>\n      <td>218.287674</td>\n      <td>134.869995</td>\n      <td>224.149994</td>\n      <td>138.789993</td>\n      <td>227.179993</td>\n      <td>134.339996</td>\n      <td>223.580002</td>\n      <td>138.050003</td>\n      <td>226.309998</td>\n      <td>121047300</td>\n      <td>17403200</td>\n    </tr>\n    <tr>\n      <th>2020-12-30</th>\n      <td>131.399384</td>\n      <td>215.882248</td>\n      <td>133.720001</td>\n      <td>221.679993</td>\n      <td>135.990005</td>\n      <td>225.630005</td>\n      <td>133.399994</td>\n      <td>221.470001</td>\n      <td>135.580002</td>\n      <td>225.229996</td>\n      <td>96452100</td>\n      <td>20272300</td>\n    </tr>\n  </tbody>\n</table>\n<p>2768 rows × 12 columns</p>\n</div>"
     },
     "execution_count": 9,
     "metadata": {},
     "output_type": "execute_result"
    }
   ],
   "source": [
    "df = yf.download(tickers = symbol, start = start, end = end)\n",
    "df"
   ],
   "metadata": {
    "collapsed": false,
    "ExecuteTime": {
     "end_time": "2024-01-18T23:01:52.862355Z",
     "start_time": "2024-01-18T23:01:51.590782Z"
    }
   },
   "id": "5d83101d3c42e970"
  },
  {
   "cell_type": "code",
   "execution_count": null,
   "outputs": [],
   "source": [
    "# df.to_csv(\"stocks.csv\")"
   ],
   "metadata": {
    "collapsed": false
   },
   "id": "2ec5c8326869fc7b"
  }
 ],
 "metadata": {
  "kernelspec": {
   "display_name": "Python 3",
   "language": "python",
   "name": "python3"
  },
  "language_info": {
   "codemirror_mode": {
    "name": "ipython",
    "version": 2
   },
   "file_extension": ".py",
   "mimetype": "text/x-python",
   "name": "python",
   "nbconvert_exporter": "python",
   "pygments_lexer": "ipython2",
   "version": "2.7.6"
  }
 },
 "nbformat": 4,
 "nbformat_minor": 5
}
